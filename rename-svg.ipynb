{
 "cells": [
  {
   "cell_type": "code",
   "execution_count": 1,
   "id": "ebf4aecb",
   "metadata": {
    "scrolled": true
   },
   "outputs": [
    {
     "name": "stdout",
     "output_type": "stream",
     "text": [
      "Renamed: Matched 1000_01 FN A.svg -> Matched-TH 1000_01 FN A.svg\n",
      "Renamed: Matched 1000_01 FN D.svg -> Matched-TH 1000_01 FN D.svg\n",
      "Renamed: Matched 1000_01 FN V.svg -> Matched-TH 1000_01 FN V.svg\n",
      "Renamed: Matched 1000_01 FP A.svg -> Matched-TH 1000_01 FP A.svg\n",
      "Renamed: Matched 1000_01 FP D.svg -> Matched-TH 1000_01 FP D.svg\n",
      "Renamed: Matched 1000_01 FP V.svg -> Matched-TH 1000_01 FP V.svg\n",
      "Renamed: Matched 1000_02 FN A.svg -> Matched-TH 1000_02 FN A.svg\n",
      "Renamed: Matched 1000_02 FN D.svg -> Matched-TH 1000_02 FN D.svg\n",
      "Renamed: Matched 1000_02 FN V.svg -> Matched-TH 1000_02 FN V.svg\n",
      "Renamed: Matched 1000_02 FP A.svg -> Matched-TH 1000_02 FP A.svg\n",
      "Renamed: Matched 1000_02 FP D.svg -> Matched-TH 1000_02 FP D.svg\n",
      "Renamed: Matched 1000_02 FP V.svg -> Matched-TH 1000_02 FP V.svg\n",
      "Renamed: Matched 1000_03 FN A.svg -> Matched-TH 1000_03 FN A.svg\n",
      "Renamed: Matched 1000_03 FN D.svg -> Matched-TH 1000_03 FN D.svg\n",
      "Renamed: Matched 1000_03 FN V.svg -> Matched-TH 1000_03 FN V.svg\n",
      "Renamed: Matched 1000_03 FP A.svg -> Matched-TH 1000_03 FP A.svg\n",
      "Renamed: Matched 1000_03 FP D.svg -> Matched-TH 1000_03 FP D.svg\n",
      "Renamed: Matched 1000_03 FP V.svg -> Matched-TH 1000_03 FP V.svg\n",
      "Renamed: Matched 2475_01 Vert A.svg -> Matched-TH 2475_01 Vert A.svg\n",
      "Renamed: Matched 2475_01 Vert D.svg -> Matched-TH 2475_01 Vert D.svg\n",
      "Renamed: Matched 2475_01 Vert V.svg -> Matched-TH 2475_01 Vert V.svg\n",
      "Renamed: Matched 2475_02 Vert A.svg -> Matched-TH 2475_02 Vert A.svg\n",
      "Renamed: Matched 2475_02 Vert D.svg -> Matched-TH 2475_02 Vert D.svg\n",
      "Renamed: Matched 2475_02 Vert V.svg -> Matched-TH 2475_02 Vert V.svg\n",
      "Renamed: Matched 2475_03 Vert A.svg -> Matched-TH 2475_03 Vert A.svg\n",
      "Renamed: Matched 2475_03 Vert D.svg -> Matched-TH 2475_03 Vert D.svg\n",
      "Renamed: Matched 2475_03 Vert V.svg -> Matched-TH 2475_03 Vert V.svg\n"
     ]
    }
   ],
   "source": [
    "import os\n",
    "\n",
    "folder_path = os.getcwd()  # Replace with the path to your SVG files folder\n",
    "\n",
    "# Iterate through each file in the folder\n",
    "for filename in os.listdir(folder_path):\n",
    "    if filename.endswith(\".svg\"):  # Filter only SVG files\n",
    "        new_filename = filename.replace(\"Matched\", \"Matched-TH\")\n",
    "        original_path = os.path.join(folder_path, filename)\n",
    "        new_path = os.path.join(folder_path, new_filename)\n",
    "\n",
    "        # Rename the file\n",
    "        os.rename(original_path, new_path)\n",
    "        print(f\"Renamed: {filename} -> {new_filename}\")\n"
   ]
  },
  {
   "cell_type": "code",
   "execution_count": 2,
   "id": "68bac813",
   "metadata": {},
   "outputs": [
    {
     "name": "stdout",
     "output_type": "stream",
     "text": [
      "Renamed: Matched-TH 1000_01 FN A.svg -> Matched-TH 1000_01 FN 1-A.svg\n",
      "Renamed: Matched-TH 1000_01 FN D.svg -> Matched-TH 1000_01 FN D.svg\n",
      "Renamed: Matched-TH 1000_01 FN V.svg -> Matched-TH 1000_01 FN V.svg\n",
      "Renamed: Matched-TH 1000_01 FP A.svg -> Matched-TH 1000_01 FP 1-A.svg\n",
      "Renamed: Matched-TH 1000_01 FP D.svg -> Matched-TH 1000_01 FP D.svg\n",
      "Renamed: Matched-TH 1000_01 FP V.svg -> Matched-TH 1000_01 FP V.svg\n",
      "Renamed: Matched-TH 1000_02 FN A.svg -> Matched-TH 1000_02 FN 1-A.svg\n",
      "Renamed: Matched-TH 1000_02 FN D.svg -> Matched-TH 1000_02 FN D.svg\n",
      "Renamed: Matched-TH 1000_02 FN V.svg -> Matched-TH 1000_02 FN V.svg\n",
      "Renamed: Matched-TH 1000_02 FP A.svg -> Matched-TH 1000_02 FP 1-A.svg\n",
      "Renamed: Matched-TH 1000_02 FP D.svg -> Matched-TH 1000_02 FP D.svg\n",
      "Renamed: Matched-TH 1000_02 FP V.svg -> Matched-TH 1000_02 FP V.svg\n",
      "Renamed: Matched-TH 1000_03 FN A.svg -> Matched-TH 1000_03 FN 1-A.svg\n",
      "Renamed: Matched-TH 1000_03 FN D.svg -> Matched-TH 1000_03 FN D.svg\n",
      "Renamed: Matched-TH 1000_03 FN V.svg -> Matched-TH 1000_03 FN V.svg\n",
      "Renamed: Matched-TH 1000_03 FP A.svg -> Matched-TH 1000_03 FP 1-A.svg\n",
      "Renamed: Matched-TH 1000_03 FP D.svg -> Matched-TH 1000_03 FP D.svg\n",
      "Renamed: Matched-TH 1000_03 FP V.svg -> Matched-TH 1000_03 FP V.svg\n",
      "Renamed: Matched-TH 2475_01 Vert A.svg -> Matched-TH 2475_01 Vert 1-A.svg\n",
      "Renamed: Matched-TH 2475_01 Vert D.svg -> Matched-TH 2475_01 Vert D.svg\n",
      "Renamed: Matched-TH 2475_01 Vert V.svg -> Matched-TH 2475_01 Vert V.svg\n",
      "Renamed: Matched-TH 2475_02 Vert A.svg -> Matched-TH 2475_02 Vert 1-A.svg\n",
      "Renamed: Matched-TH 2475_02 Vert D.svg -> Matched-TH 2475_02 Vert D.svg\n",
      "Renamed: Matched-TH 2475_02 Vert V.svg -> Matched-TH 2475_02 Vert V.svg\n",
      "Renamed: Matched-TH 2475_03 Vert A.svg -> Matched-TH 2475_03 Vert 1-A.svg\n",
      "Renamed: Matched-TH 2475_03 Vert D.svg -> Matched-TH 2475_03 Vert D.svg\n",
      "Renamed: Matched-TH 2475_03 Vert V.svg -> Matched-TH 2475_03 Vert V.svg\n"
     ]
    }
   ],
   "source": [
    "import os\n",
    "\n",
    "folder_path = os.getcwd()  # Replace with the path to your SVG files folder\n",
    "\n",
    "# Iterate through each file in the folder\n",
    "for filename in os.listdir(folder_path):\n",
    "    if filename.endswith(\".svg\"):  # Filter only SVG files\n",
    "        new_filename = filename.replace(\"A.svg\", \"1-A.svg\")\n",
    "        original_path = os.path.join(folder_path, filename)\n",
    "        new_path = os.path.join(folder_path, new_filename)\n",
    "\n",
    "        # Rename the file\n",
    "        os.rename(original_path, new_path)\n",
    "        print(f\"Renamed: {filename} -> {new_filename}\")\n"
   ]
  },
  {
   "cell_type": "code",
   "execution_count": 3,
   "id": "eb45f8ab",
   "metadata": {},
   "outputs": [
    {
     "name": "stdout",
     "output_type": "stream",
     "text": [
      "Renamed: Matched-TH 1000_01 FN 1-A.svg -> Matched-TH 1000_01 FN 1-A.svg\n",
      "Renamed: Matched-TH 1000_01 FN D.svg -> Matched-TH 1000_01 FN D.svg\n",
      "Renamed: Matched-TH 1000_01 FN V.svg -> Matched-TH 1000_01 FN 2-V.svg\n",
      "Renamed: Matched-TH 1000_01 FP 1-A.svg -> Matched-TH 1000_01 FP 1-A.svg\n",
      "Renamed: Matched-TH 1000_01 FP D.svg -> Matched-TH 1000_01 FP D.svg\n",
      "Renamed: Matched-TH 1000_01 FP V.svg -> Matched-TH 1000_01 FP 2-V.svg\n",
      "Renamed: Matched-TH 1000_02 FN 1-A.svg -> Matched-TH 1000_02 FN 1-A.svg\n",
      "Renamed: Matched-TH 1000_02 FN D.svg -> Matched-TH 1000_02 FN D.svg\n",
      "Renamed: Matched-TH 1000_02 FN V.svg -> Matched-TH 1000_02 FN 2-V.svg\n",
      "Renamed: Matched-TH 1000_02 FP 1-A.svg -> Matched-TH 1000_02 FP 1-A.svg\n",
      "Renamed: Matched-TH 1000_02 FP D.svg -> Matched-TH 1000_02 FP D.svg\n",
      "Renamed: Matched-TH 1000_02 FP V.svg -> Matched-TH 1000_02 FP 2-V.svg\n",
      "Renamed: Matched-TH 1000_03 FN 1-A.svg -> Matched-TH 1000_03 FN 1-A.svg\n",
      "Renamed: Matched-TH 1000_03 FN D.svg -> Matched-TH 1000_03 FN D.svg\n",
      "Renamed: Matched-TH 1000_03 FN V.svg -> Matched-TH 1000_03 FN 2-V.svg\n",
      "Renamed: Matched-TH 1000_03 FP 1-A.svg -> Matched-TH 1000_03 FP 1-A.svg\n",
      "Renamed: Matched-TH 1000_03 FP D.svg -> Matched-TH 1000_03 FP D.svg\n",
      "Renamed: Matched-TH 1000_03 FP V.svg -> Matched-TH 1000_03 FP 2-V.svg\n",
      "Renamed: Matched-TH 2475_01 Vert 1-A.svg -> Matched-TH 2475_01 Vert 1-A.svg\n",
      "Renamed: Matched-TH 2475_01 Vert D.svg -> Matched-TH 2475_01 Vert D.svg\n",
      "Renamed: Matched-TH 2475_01 Vert V.svg -> Matched-TH 2475_01 Vert 2-V.svg\n",
      "Renamed: Matched-TH 2475_02 Vert 1-A.svg -> Matched-TH 2475_02 Vert 1-A.svg\n",
      "Renamed: Matched-TH 2475_02 Vert D.svg -> Matched-TH 2475_02 Vert D.svg\n",
      "Renamed: Matched-TH 2475_02 Vert V.svg -> Matched-TH 2475_02 Vert 2-V.svg\n",
      "Renamed: Matched-TH 2475_03 Vert 1-A.svg -> Matched-TH 2475_03 Vert 1-A.svg\n",
      "Renamed: Matched-TH 2475_03 Vert D.svg -> Matched-TH 2475_03 Vert D.svg\n",
      "Renamed: Matched-TH 2475_03 Vert V.svg -> Matched-TH 2475_03 Vert 2-V.svg\n"
     ]
    }
   ],
   "source": [
    "import os\n",
    "\n",
    "folder_path = os.getcwd()  # Replace with the path to your SVG files folder\n",
    "\n",
    "# Iterate through each file in the folder\n",
    "for filename in os.listdir(folder_path):\n",
    "    if filename.endswith(\".svg\"):  # Filter only SVG files\n",
    "        new_filename = filename.replace(\"V.svg\", \"2-V.svg\")\n",
    "        original_path = os.path.join(folder_path, filename)\n",
    "        new_path = os.path.join(folder_path, new_filename)\n",
    "\n",
    "        # Rename the file\n",
    "        os.rename(original_path, new_path)\n",
    "        print(f\"Renamed: {filename} -> {new_filename}\")"
   ]
  },
  {
   "cell_type": "code",
   "execution_count": 4,
   "id": "fb1a39a6",
   "metadata": {},
   "outputs": [
    {
     "name": "stdout",
     "output_type": "stream",
     "text": [
      "Renamed: Matched-TH 1000_01 FN 1-A.svg -> Matched-TH 1000_01 FN 1-A.svg\n",
      "Renamed: Matched-TH 1000_01 FN 2-V.svg -> Matched-TH 1000_01 FN 2-V.svg\n",
      "Renamed: Matched-TH 1000_01 FN D.svg -> Matched-TH 1000_01 FN 3-D.svg\n",
      "Renamed: Matched-TH 1000_01 FP 1-A.svg -> Matched-TH 1000_01 FP 1-A.svg\n",
      "Renamed: Matched-TH 1000_01 FP 2-V.svg -> Matched-TH 1000_01 FP 2-V.svg\n",
      "Renamed: Matched-TH 1000_01 FP D.svg -> Matched-TH 1000_01 FP 3-D.svg\n",
      "Renamed: Matched-TH 1000_02 FN 1-A.svg -> Matched-TH 1000_02 FN 1-A.svg\n",
      "Renamed: Matched-TH 1000_02 FN 2-V.svg -> Matched-TH 1000_02 FN 2-V.svg\n",
      "Renamed: Matched-TH 1000_02 FN D.svg -> Matched-TH 1000_02 FN 3-D.svg\n",
      "Renamed: Matched-TH 1000_02 FP 1-A.svg -> Matched-TH 1000_02 FP 1-A.svg\n",
      "Renamed: Matched-TH 1000_02 FP 2-V.svg -> Matched-TH 1000_02 FP 2-V.svg\n",
      "Renamed: Matched-TH 1000_02 FP D.svg -> Matched-TH 1000_02 FP 3-D.svg\n",
      "Renamed: Matched-TH 1000_03 FN 1-A.svg -> Matched-TH 1000_03 FN 1-A.svg\n",
      "Renamed: Matched-TH 1000_03 FN 2-V.svg -> Matched-TH 1000_03 FN 2-V.svg\n",
      "Renamed: Matched-TH 1000_03 FN D.svg -> Matched-TH 1000_03 FN 3-D.svg\n",
      "Renamed: Matched-TH 1000_03 FP 1-A.svg -> Matched-TH 1000_03 FP 1-A.svg\n",
      "Renamed: Matched-TH 1000_03 FP 2-V.svg -> Matched-TH 1000_03 FP 2-V.svg\n",
      "Renamed: Matched-TH 1000_03 FP D.svg -> Matched-TH 1000_03 FP 3-D.svg\n",
      "Renamed: Matched-TH 2475_01 Vert 1-A.svg -> Matched-TH 2475_01 Vert 1-A.svg\n",
      "Renamed: Matched-TH 2475_01 Vert 2-V.svg -> Matched-TH 2475_01 Vert 2-V.svg\n",
      "Renamed: Matched-TH 2475_01 Vert D.svg -> Matched-TH 2475_01 Vert 3-D.svg\n",
      "Renamed: Matched-TH 2475_02 Vert 1-A.svg -> Matched-TH 2475_02 Vert 1-A.svg\n",
      "Renamed: Matched-TH 2475_02 Vert 2-V.svg -> Matched-TH 2475_02 Vert 2-V.svg\n",
      "Renamed: Matched-TH 2475_02 Vert D.svg -> Matched-TH 2475_02 Vert 3-D.svg\n",
      "Renamed: Matched-TH 2475_03 Vert 1-A.svg -> Matched-TH 2475_03 Vert 1-A.svg\n",
      "Renamed: Matched-TH 2475_03 Vert 2-V.svg -> Matched-TH 2475_03 Vert 2-V.svg\n",
      "Renamed: Matched-TH 2475_03 Vert D.svg -> Matched-TH 2475_03 Vert 3-D.svg\n"
     ]
    }
   ],
   "source": [
    "import os\n",
    "\n",
    "folder_path = os.getcwd()  # Replace with the path to your SVG files folder\n",
    "\n",
    "# Iterate through each file in the folder\n",
    "for filename in os.listdir(folder_path):\n",
    "    if filename.endswith(\".svg\"):  # Filter only SVG files\n",
    "        new_filename = filename.replace(\"D.svg\", \"3-D.svg\")\n",
    "        original_path = os.path.join(folder_path, filename)\n",
    "        new_path = os.path.join(folder_path, new_filename)\n",
    "\n",
    "        # Rename the file\n",
    "        os.rename(original_path, new_path)\n",
    "        print(f\"Renamed: {filename} -> {new_filename}\")"
   ]
  },
  {
   "cell_type": "code",
   "execution_count": 5,
   "id": "d06d7d22",
   "metadata": {},
   "outputs": [
    {
     "name": "stdout",
     "output_type": "stream",
     "text": [
      "Renamed: Matched-TH 1000_01 FN 1-A.svg -> Matched-TH 2475_01 FN 1-A.svg\n",
      "Renamed: Matched-TH 1000_01 FN 2-V.svg -> Matched-TH 2475_01 FN 2-V.svg\n",
      "Renamed: Matched-TH 1000_01 FN 3-D.svg -> Matched-TH 2475_01 FN 3-D.svg\n",
      "Renamed: Matched-TH 1000_01 FP 1-A.svg -> Matched-TH 2475_01 FP 1-A.svg\n",
      "Renamed: Matched-TH 1000_01 FP 2-V.svg -> Matched-TH 2475_01 FP 2-V.svg\n",
      "Renamed: Matched-TH 1000_01 FP 3-D.svg -> Matched-TH 2475_01 FP 3-D.svg\n",
      "Renamed: Matched-TH 1000_02 FN 1-A.svg -> Matched-TH 2475_02 FN 1-A.svg\n",
      "Renamed: Matched-TH 1000_02 FN 2-V.svg -> Matched-TH 2475_02 FN 2-V.svg\n",
      "Renamed: Matched-TH 1000_02 FN 3-D.svg -> Matched-TH 2475_02 FN 3-D.svg\n",
      "Renamed: Matched-TH 1000_02 FP 1-A.svg -> Matched-TH 2475_02 FP 1-A.svg\n",
      "Renamed: Matched-TH 1000_02 FP 2-V.svg -> Matched-TH 2475_02 FP 2-V.svg\n",
      "Renamed: Matched-TH 1000_02 FP 3-D.svg -> Matched-TH 2475_02 FP 3-D.svg\n",
      "Renamed: Matched-TH 1000_03 FN 1-A.svg -> Matched-TH 2475_03 FN 1-A.svg\n",
      "Renamed: Matched-TH 1000_03 FN 2-V.svg -> Matched-TH 2475_03 FN 2-V.svg\n",
      "Renamed: Matched-TH 1000_03 FN 3-D.svg -> Matched-TH 2475_03 FN 3-D.svg\n",
      "Renamed: Matched-TH 1000_03 FP 1-A.svg -> Matched-TH 2475_03 FP 1-A.svg\n",
      "Renamed: Matched-TH 1000_03 FP 2-V.svg -> Matched-TH 2475_03 FP 2-V.svg\n",
      "Renamed: Matched-TH 1000_03 FP 3-D.svg -> Matched-TH 2475_03 FP 3-D.svg\n",
      "Renamed: Matched-TH 2475_01 Vert 1-A.svg -> Matched-TH 2475_01 Vert 1-A.svg\n",
      "Renamed: Matched-TH 2475_01 Vert 2-V.svg -> Matched-TH 2475_01 Vert 2-V.svg\n",
      "Renamed: Matched-TH 2475_01 Vert 3-D.svg -> Matched-TH 2475_01 Vert 3-D.svg\n",
      "Renamed: Matched-TH 2475_02 Vert 1-A.svg -> Matched-TH 2475_02 Vert 1-A.svg\n",
      "Renamed: Matched-TH 2475_02 Vert 2-V.svg -> Matched-TH 2475_02 Vert 2-V.svg\n",
      "Renamed: Matched-TH 2475_02 Vert 3-D.svg -> Matched-TH 2475_02 Vert 3-D.svg\n",
      "Renamed: Matched-TH 2475_03 Vert 1-A.svg -> Matched-TH 2475_03 Vert 1-A.svg\n",
      "Renamed: Matched-TH 2475_03 Vert 2-V.svg -> Matched-TH 2475_03 Vert 2-V.svg\n",
      "Renamed: Matched-TH 2475_03 Vert 3-D.svg -> Matched-TH 2475_03 Vert 3-D.svg\n"
     ]
    }
   ],
   "source": [
    "import os\n",
    "\n",
    "folder_path = os.getcwd()  # Replace with the path to your SVG files folder\n",
    "\n",
    "# Iterate through each file in the folder\n",
    "for filename in os.listdir(folder_path):\n",
    "    if filename.endswith(\".svg\"):  # Filter only SVG files\n",
    "        new_filename = filename.replace(\"1000_\", \"2475_\")\n",
    "        original_path = os.path.join(folder_path, filename)\n",
    "        new_path = os.path.join(folder_path, new_filename)\n",
    "\n",
    "        # Rename the file\n",
    "        os.rename(original_path, new_path)\n",
    "        print(f\"Renamed: {filename} -> {new_filename}\")"
   ]
  },
  {
   "cell_type": "code",
   "execution_count": null,
   "id": "c43c5609",
   "metadata": {},
   "outputs": [],
   "source": []
  }
 ],
 "metadata": {
  "kernelspec": {
   "display_name": "Python (DAP)",
   "language": "python",
   "name": "dap"
  },
  "language_info": {
   "codemirror_mode": {
    "name": "ipython",
    "version": 3
   },
   "file_extension": ".py",
   "mimetype": "text/x-python",
   "name": "python",
   "nbconvert_exporter": "python",
   "pygments_lexer": "ipython3",
   "version": "3.8.10"
  }
 },
 "nbformat": 4,
 "nbformat_minor": 5
}
